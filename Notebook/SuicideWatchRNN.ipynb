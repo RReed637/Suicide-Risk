{
  "cells": [
    {
      "cell_type": "markdown",
      "metadata": {
        "id": "view-in-github",
        "colab_type": "text"
      },
      "source": [
        "<a href=\"https://colab.research.google.com/github/RReed637/Suicide-Risk/blob/main/Notebook/SuicideWatchRNN.ipynb\" target=\"_parent\"><img src=\"https://colab.research.google.com/assets/colab-badge.svg\" alt=\"Open In Colab\"/></a>"
      ]
    },
    {
      "cell_type": "code",
      "source": [
        "!pip install pyprind\n",
        "!pip install numpy\n",
        "!pip install matplotlib\n",
        "!pip install seaborn\n",
        "!pip install plotly\n",
        "!pip install plotly.io\n",
        "!pip install plotly.express\n",
        "!pip install tensorflow\n",
        "!pip install keras\n",
        "!pip install sklearn\n",
        "!pip install pandas\n",
        "!pip3 install torch torchvision torchaudio --index-url https://download.pytorch.org/whl/cu121\n"
      ],
      "metadata": {
        "id": "bmt0LZO7onbr",
        "outputId": "297cde6a-8156-45ac-9ce7-368b018c48d8",
        "colab": {
          "base_uri": "https://localhost:8080/"
        }
      },
      "execution_count": 1,
      "outputs": [
        {
          "output_type": "stream",
          "name": "stdout",
          "text": [
            "Collecting pyprind\n",
            "  Downloading PyPrind-2.11.3-py2.py3-none-any.whl (8.4 kB)\n",
            "Installing collected packages: pyprind\n",
            "Successfully installed pyprind-2.11.3\n",
            "Requirement already satisfied: numpy in /usr/local/lib/python3.10/dist-packages (1.25.2)\n",
            "Requirement already satisfied: matplotlib in /usr/local/lib/python3.10/dist-packages (3.7.1)\n",
            "Requirement already satisfied: contourpy>=1.0.1 in /usr/local/lib/python3.10/dist-packages (from matplotlib) (1.2.1)\n",
            "Requirement already satisfied: cycler>=0.10 in /usr/local/lib/python3.10/dist-packages (from matplotlib) (0.12.1)\n",
            "Requirement already satisfied: fonttools>=4.22.0 in /usr/local/lib/python3.10/dist-packages (from matplotlib) (4.51.0)\n",
            "Requirement already satisfied: kiwisolver>=1.0.1 in /usr/local/lib/python3.10/dist-packages (from matplotlib) (1.4.5)\n",
            "Requirement already satisfied: numpy>=1.20 in /usr/local/lib/python3.10/dist-packages (from matplotlib) (1.25.2)\n",
            "Requirement already satisfied: packaging>=20.0 in /usr/local/lib/python3.10/dist-packages (from matplotlib) (24.0)\n",
            "Requirement already satisfied: pillow>=6.2.0 in /usr/local/lib/python3.10/dist-packages (from matplotlib) (9.4.0)\n",
            "Requirement already satisfied: pyparsing>=2.3.1 in /usr/local/lib/python3.10/dist-packages (from matplotlib) (3.1.2)\n",
            "Requirement already satisfied: python-dateutil>=2.7 in /usr/local/lib/python3.10/dist-packages (from matplotlib) (2.8.2)\n",
            "Requirement already satisfied: six>=1.5 in /usr/local/lib/python3.10/dist-packages (from python-dateutil>=2.7->matplotlib) (1.16.0)\n",
            "Requirement already satisfied: seaborn in /usr/local/lib/python3.10/dist-packages (0.13.1)\n",
            "Requirement already satisfied: numpy!=1.24.0,>=1.20 in /usr/local/lib/python3.10/dist-packages (from seaborn) (1.25.2)\n",
            "Requirement already satisfied: pandas>=1.2 in /usr/local/lib/python3.10/dist-packages (from seaborn) (2.0.3)\n",
            "Requirement already satisfied: matplotlib!=3.6.1,>=3.4 in /usr/local/lib/python3.10/dist-packages (from seaborn) (3.7.1)\n",
            "Requirement already satisfied: contourpy>=1.0.1 in /usr/local/lib/python3.10/dist-packages (from matplotlib!=3.6.1,>=3.4->seaborn) (1.2.1)\n",
            "Requirement already satisfied: cycler>=0.10 in /usr/local/lib/python3.10/dist-packages (from matplotlib!=3.6.1,>=3.4->seaborn) (0.12.1)\n",
            "Requirement already satisfied: fonttools>=4.22.0 in /usr/local/lib/python3.10/dist-packages (from matplotlib!=3.6.1,>=3.4->seaborn) (4.51.0)\n",
            "Requirement already satisfied: kiwisolver>=1.0.1 in /usr/local/lib/python3.10/dist-packages (from matplotlib!=3.6.1,>=3.4->seaborn) (1.4.5)\n",
            "Requirement already satisfied: packaging>=20.0 in /usr/local/lib/python3.10/dist-packages (from matplotlib!=3.6.1,>=3.4->seaborn) (24.0)\n",
            "Requirement already satisfied: pillow>=6.2.0 in /usr/local/lib/python3.10/dist-packages (from matplotlib!=3.6.1,>=3.4->seaborn) (9.4.0)\n",
            "Requirement already satisfied: pyparsing>=2.3.1 in /usr/local/lib/python3.10/dist-packages (from matplotlib!=3.6.1,>=3.4->seaborn) (3.1.2)\n",
            "Requirement already satisfied: python-dateutil>=2.7 in /usr/local/lib/python3.10/dist-packages (from matplotlib!=3.6.1,>=3.4->seaborn) (2.8.2)\n",
            "Requirement already satisfied: pytz>=2020.1 in /usr/local/lib/python3.10/dist-packages (from pandas>=1.2->seaborn) (2023.4)\n",
            "Requirement already satisfied: tzdata>=2022.1 in /usr/local/lib/python3.10/dist-packages (from pandas>=1.2->seaborn) (2024.1)\n",
            "Requirement already satisfied: six>=1.5 in /usr/local/lib/python3.10/dist-packages (from python-dateutil>=2.7->matplotlib!=3.6.1,>=3.4->seaborn) (1.16.0)\n",
            "Requirement already satisfied: plotly in /usr/local/lib/python3.10/dist-packages (5.15.0)\n",
            "Requirement already satisfied: tenacity>=6.2.0 in /usr/local/lib/python3.10/dist-packages (from plotly) (8.2.3)\n",
            "Requirement already satisfied: packaging in /usr/local/lib/python3.10/dist-packages (from plotly) (24.0)\n",
            "\u001b[31mERROR: Could not find a version that satisfies the requirement plotly.io (from versions: none)\u001b[0m\u001b[31m\n",
            "\u001b[0m\u001b[31mERROR: No matching distribution found for plotly.io\u001b[0m\u001b[31m\n",
            "\u001b[0mCollecting plotly.express\n",
            "  Downloading plotly_express-0.4.1-py2.py3-none-any.whl (2.9 kB)\n",
            "Requirement already satisfied: pandas>=0.20.0 in /usr/local/lib/python3.10/dist-packages (from plotly.express) (2.0.3)\n",
            "Requirement already satisfied: plotly>=4.1.0 in /usr/local/lib/python3.10/dist-packages (from plotly.express) (5.15.0)\n",
            "Requirement already satisfied: statsmodels>=0.9.0 in /usr/local/lib/python3.10/dist-packages (from plotly.express) (0.14.2)\n",
            "Requirement already satisfied: scipy>=0.18 in /usr/local/lib/python3.10/dist-packages (from plotly.express) (1.11.4)\n",
            "Requirement already satisfied: patsy>=0.5 in /usr/local/lib/python3.10/dist-packages (from plotly.express) (0.5.6)\n",
            "Requirement already satisfied: numpy>=1.11 in /usr/local/lib/python3.10/dist-packages (from plotly.express) (1.25.2)\n",
            "Requirement already satisfied: python-dateutil>=2.8.2 in /usr/local/lib/python3.10/dist-packages (from pandas>=0.20.0->plotly.express) (2.8.2)\n",
            "Requirement already satisfied: pytz>=2020.1 in /usr/local/lib/python3.10/dist-packages (from pandas>=0.20.0->plotly.express) (2023.4)\n",
            "Requirement already satisfied: tzdata>=2022.1 in /usr/local/lib/python3.10/dist-packages (from pandas>=0.20.0->plotly.express) (2024.1)\n",
            "Requirement already satisfied: six in /usr/local/lib/python3.10/dist-packages (from patsy>=0.5->plotly.express) (1.16.0)\n",
            "Requirement already satisfied: tenacity>=6.2.0 in /usr/local/lib/python3.10/dist-packages (from plotly>=4.1.0->plotly.express) (8.2.3)\n",
            "Requirement already satisfied: packaging in /usr/local/lib/python3.10/dist-packages (from plotly>=4.1.0->plotly.express) (24.0)\n",
            "Installing collected packages: plotly.express\n",
            "Successfully installed plotly.express-0.4.1\n",
            "Requirement already satisfied: tensorflow in /usr/local/lib/python3.10/dist-packages (2.15.0)\n",
            "Requirement already satisfied: absl-py>=1.0.0 in /usr/local/lib/python3.10/dist-packages (from tensorflow) (1.4.0)\n",
            "Requirement already satisfied: astunparse>=1.6.0 in /usr/local/lib/python3.10/dist-packages (from tensorflow) (1.6.3)\n",
            "Requirement already satisfied: flatbuffers>=23.5.26 in /usr/local/lib/python3.10/dist-packages (from tensorflow) (24.3.25)\n",
            "Requirement already satisfied: gast!=0.5.0,!=0.5.1,!=0.5.2,>=0.2.1 in /usr/local/lib/python3.10/dist-packages (from tensorflow) (0.5.4)\n",
            "Requirement already satisfied: google-pasta>=0.1.1 in /usr/local/lib/python3.10/dist-packages (from tensorflow) (0.2.0)\n",
            "Requirement already satisfied: h5py>=2.9.0 in /usr/local/lib/python3.10/dist-packages (from tensorflow) (3.9.0)\n",
            "Requirement already satisfied: libclang>=13.0.0 in /usr/local/lib/python3.10/dist-packages (from tensorflow) (18.1.1)\n",
            "Requirement already satisfied: ml-dtypes~=0.2.0 in /usr/local/lib/python3.10/dist-packages (from tensorflow) (0.2.0)\n",
            "Requirement already satisfied: numpy<2.0.0,>=1.23.5 in /usr/local/lib/python3.10/dist-packages (from tensorflow) (1.25.2)\n",
            "Requirement already satisfied: opt-einsum>=2.3.2 in /usr/local/lib/python3.10/dist-packages (from tensorflow) (3.3.0)\n",
            "Requirement already satisfied: packaging in /usr/local/lib/python3.10/dist-packages (from tensorflow) (24.0)\n",
            "Requirement already satisfied: protobuf!=4.21.0,!=4.21.1,!=4.21.2,!=4.21.3,!=4.21.4,!=4.21.5,<5.0.0dev,>=3.20.3 in /usr/local/lib/python3.10/dist-packages (from tensorflow) (3.20.3)\n",
            "Requirement already satisfied: setuptools in /usr/local/lib/python3.10/dist-packages (from tensorflow) (67.7.2)\n",
            "Requirement already satisfied: six>=1.12.0 in /usr/local/lib/python3.10/dist-packages (from tensorflow) (1.16.0)\n",
            "Requirement already satisfied: termcolor>=1.1.0 in /usr/local/lib/python3.10/dist-packages (from tensorflow) (2.4.0)\n",
            "Requirement already satisfied: typing-extensions>=3.6.6 in /usr/local/lib/python3.10/dist-packages (from tensorflow) (4.11.0)\n",
            "Requirement already satisfied: wrapt<1.15,>=1.11.0 in /usr/local/lib/python3.10/dist-packages (from tensorflow) (1.14.1)\n",
            "Requirement already satisfied: tensorflow-io-gcs-filesystem>=0.23.1 in /usr/local/lib/python3.10/dist-packages (from tensorflow) (0.37.0)\n",
            "Requirement already satisfied: grpcio<2.0,>=1.24.3 in /usr/local/lib/python3.10/dist-packages (from tensorflow) (1.63.0)\n",
            "Requirement already satisfied: tensorboard<2.16,>=2.15 in /usr/local/lib/python3.10/dist-packages (from tensorflow) (2.15.2)\n",
            "Requirement already satisfied: tensorflow-estimator<2.16,>=2.15.0 in /usr/local/lib/python3.10/dist-packages (from tensorflow) (2.15.0)\n",
            "Requirement already satisfied: keras<2.16,>=2.15.0 in /usr/local/lib/python3.10/dist-packages (from tensorflow) (2.15.0)\n",
            "Requirement already satisfied: wheel<1.0,>=0.23.0 in /usr/local/lib/python3.10/dist-packages (from astunparse>=1.6.0->tensorflow) (0.43.0)\n",
            "Requirement already satisfied: google-auth<3,>=1.6.3 in /usr/local/lib/python3.10/dist-packages (from tensorboard<2.16,>=2.15->tensorflow) (2.27.0)\n",
            "Requirement already satisfied: google-auth-oauthlib<2,>=0.5 in /usr/local/lib/python3.10/dist-packages (from tensorboard<2.16,>=2.15->tensorflow) (1.2.0)\n",
            "Requirement already satisfied: markdown>=2.6.8 in /usr/local/lib/python3.10/dist-packages (from tensorboard<2.16,>=2.15->tensorflow) (3.6)\n",
            "Requirement already satisfied: requests<3,>=2.21.0 in /usr/local/lib/python3.10/dist-packages (from tensorboard<2.16,>=2.15->tensorflow) (2.31.0)\n",
            "Requirement already satisfied: tensorboard-data-server<0.8.0,>=0.7.0 in /usr/local/lib/python3.10/dist-packages (from tensorboard<2.16,>=2.15->tensorflow) (0.7.2)\n",
            "Requirement already satisfied: werkzeug>=1.0.1 in /usr/local/lib/python3.10/dist-packages (from tensorboard<2.16,>=2.15->tensorflow) (3.0.2)\n",
            "Requirement already satisfied: cachetools<6.0,>=2.0.0 in /usr/local/lib/python3.10/dist-packages (from google-auth<3,>=1.6.3->tensorboard<2.16,>=2.15->tensorflow) (5.3.3)\n",
            "Requirement already satisfied: pyasn1-modules>=0.2.1 in /usr/local/lib/python3.10/dist-packages (from google-auth<3,>=1.6.3->tensorboard<2.16,>=2.15->tensorflow) (0.4.0)\n",
            "Requirement already satisfied: rsa<5,>=3.1.4 in /usr/local/lib/python3.10/dist-packages (from google-auth<3,>=1.6.3->tensorboard<2.16,>=2.15->tensorflow) (4.9)\n",
            "Requirement already satisfied: requests-oauthlib>=0.7.0 in /usr/local/lib/python3.10/dist-packages (from google-auth-oauthlib<2,>=0.5->tensorboard<2.16,>=2.15->tensorflow) (1.3.1)\n",
            "Requirement already satisfied: charset-normalizer<4,>=2 in /usr/local/lib/python3.10/dist-packages (from requests<3,>=2.21.0->tensorboard<2.16,>=2.15->tensorflow) (3.3.2)\n",
            "Requirement already satisfied: idna<4,>=2.5 in /usr/local/lib/python3.10/dist-packages (from requests<3,>=2.21.0->tensorboard<2.16,>=2.15->tensorflow) (3.7)\n",
            "Requirement already satisfied: urllib3<3,>=1.21.1 in /usr/local/lib/python3.10/dist-packages (from requests<3,>=2.21.0->tensorboard<2.16,>=2.15->tensorflow) (2.0.7)\n",
            "Requirement already satisfied: certifi>=2017.4.17 in /usr/local/lib/python3.10/dist-packages (from requests<3,>=2.21.0->tensorboard<2.16,>=2.15->tensorflow) (2024.2.2)\n",
            "Requirement already satisfied: MarkupSafe>=2.1.1 in /usr/local/lib/python3.10/dist-packages (from werkzeug>=1.0.1->tensorboard<2.16,>=2.15->tensorflow) (2.1.5)\n",
            "Requirement already satisfied: pyasn1<0.7.0,>=0.4.6 in /usr/local/lib/python3.10/dist-packages (from pyasn1-modules>=0.2.1->google-auth<3,>=1.6.3->tensorboard<2.16,>=2.15->tensorflow) (0.6.0)\n",
            "Requirement already satisfied: oauthlib>=3.0.0 in /usr/local/lib/python3.10/dist-packages (from requests-oauthlib>=0.7.0->google-auth-oauthlib<2,>=0.5->tensorboard<2.16,>=2.15->tensorflow) (3.2.2)\n",
            "Requirement already satisfied: keras in /usr/local/lib/python3.10/dist-packages (2.15.0)\n",
            "Collecting sklearn\n",
            "  Downloading sklearn-0.0.post12.tar.gz (2.6 kB)\n",
            "  \u001b[1;31merror\u001b[0m: \u001b[1msubprocess-exited-with-error\u001b[0m\n",
            "  \n",
            "  \u001b[31m×\u001b[0m \u001b[32mpython setup.py egg_info\u001b[0m did not run successfully.\n",
            "  \u001b[31m│\u001b[0m exit code: \u001b[1;36m1\u001b[0m\n",
            "  \u001b[31m╰─>\u001b[0m See above for output.\n",
            "  \n",
            "  \u001b[1;35mnote\u001b[0m: This error originates from a subprocess, and is likely not a problem with pip.\n",
            "  Preparing metadata (setup.py) ... \u001b[?25l\u001b[?25herror\n",
            "\u001b[1;31merror\u001b[0m: \u001b[1mmetadata-generation-failed\u001b[0m\n",
            "\n",
            "\u001b[31m×\u001b[0m Encountered error while generating package metadata.\n",
            "\u001b[31m╰─>\u001b[0m See above for output.\n",
            "\n",
            "\u001b[1;35mnote\u001b[0m: This is an issue with the package mentioned above, not pip.\n",
            "\u001b[1;36mhint\u001b[0m: See above for details.\n",
            "Requirement already satisfied: pandas in /usr/local/lib/python3.10/dist-packages (2.0.3)\n",
            "Requirement already satisfied: python-dateutil>=2.8.2 in /usr/local/lib/python3.10/dist-packages (from pandas) (2.8.2)\n",
            "Requirement already satisfied: pytz>=2020.1 in /usr/local/lib/python3.10/dist-packages (from pandas) (2023.4)\n",
            "Requirement already satisfied: tzdata>=2022.1 in /usr/local/lib/python3.10/dist-packages (from pandas) (2024.1)\n",
            "Requirement already satisfied: numpy>=1.21.0 in /usr/local/lib/python3.10/dist-packages (from pandas) (1.25.2)\n",
            "Requirement already satisfied: six>=1.5 in /usr/local/lib/python3.10/dist-packages (from python-dateutil>=2.8.2->pandas) (1.16.0)\n",
            "Looking in indexes: https://download.pytorch.org/whl/cu121\n",
            "Requirement already satisfied: torch in /usr/local/lib/python3.10/dist-packages (2.2.1+cu121)\n",
            "Requirement already satisfied: torchvision in /usr/local/lib/python3.10/dist-packages (0.17.1+cu121)\n",
            "Requirement already satisfied: torchaudio in /usr/local/lib/python3.10/dist-packages (2.2.1+cu121)\n",
            "Requirement already satisfied: filelock in /usr/local/lib/python3.10/dist-packages (from torch) (3.14.0)\n",
            "Requirement already satisfied: typing-extensions>=4.8.0 in /usr/local/lib/python3.10/dist-packages (from torch) (4.11.0)\n",
            "Requirement already satisfied: sympy in /usr/local/lib/python3.10/dist-packages (from torch) (1.12)\n",
            "Requirement already satisfied: networkx in /usr/local/lib/python3.10/dist-packages (from torch) (3.3)\n",
            "Requirement already satisfied: jinja2 in /usr/local/lib/python3.10/dist-packages (from torch) (3.1.3)\n",
            "Requirement already satisfied: fsspec in /usr/local/lib/python3.10/dist-packages (from torch) (2023.6.0)\n",
            "Collecting nvidia-cuda-nvrtc-cu12==12.1.105 (from torch)\n",
            "  Downloading https://download.pytorch.org/whl/cu121/nvidia_cuda_nvrtc_cu12-12.1.105-py3-none-manylinux1_x86_64.whl (23.7 MB)\n",
            "\u001b[2K     \u001b[90m━━━━━━━━━━━━━━━━━━━━━━━━━━━━━━━━━━━━━━━━\u001b[0m \u001b[32m23.7/23.7 MB\u001b[0m \u001b[31m62.3 MB/s\u001b[0m eta \u001b[36m0:00:00\u001b[0m\n",
            "\u001b[?25hCollecting nvidia-cuda-runtime-cu12==12.1.105 (from torch)\n",
            "  Downloading https://download.pytorch.org/whl/cu121/nvidia_cuda_runtime_cu12-12.1.105-py3-none-manylinux1_x86_64.whl (823 kB)\n",
            "\u001b[2K     \u001b[90m━━━━━━━━━━━━━━━━━━━━━━━━━━━━━━━━━━━━━━━━\u001b[0m \u001b[32m823.6/823.6 kB\u001b[0m \u001b[31m68.2 MB/s\u001b[0m eta \u001b[36m0:00:00\u001b[0m\n",
            "\u001b[?25hCollecting nvidia-cuda-cupti-cu12==12.1.105 (from torch)\n",
            "  Downloading https://download.pytorch.org/whl/cu121/nvidia_cuda_cupti_cu12-12.1.105-py3-none-manylinux1_x86_64.whl (14.1 MB)\n",
            "\u001b[2K     \u001b[90m━━━━━━━━━━━━━━━━━━━━━━━━━━━━━━━━━━━━━━━━\u001b[0m \u001b[32m14.1/14.1 MB\u001b[0m \u001b[31m92.2 MB/s\u001b[0m eta \u001b[36m0:00:00\u001b[0m\n",
            "\u001b[?25hCollecting nvidia-cudnn-cu12==8.9.2.26 (from torch)\n",
            "  Downloading https://download.pytorch.org/whl/cu121/nvidia_cudnn_cu12-8.9.2.26-py3-none-manylinux1_x86_64.whl (731.7 MB)\n",
            "\u001b[2K     \u001b[90m━━━━━━━━━━━━━━━━━━━━━━━━━━━━━━━━━━━━━━━━\u001b[0m \u001b[32m731.7/731.7 MB\u001b[0m \u001b[31m2.0 MB/s\u001b[0m eta \u001b[36m0:00:00\u001b[0m\n",
            "\u001b[?25hCollecting nvidia-cublas-cu12==12.1.3.1 (from torch)\n",
            "  Downloading https://download.pytorch.org/whl/cu121/nvidia_cublas_cu12-12.1.3.1-py3-none-manylinux1_x86_64.whl (410.6 MB)\n",
            "\u001b[2K     \u001b[90m━━━━━━━━━━━━━━━━━━━━━━━━━━━━━━━━━━━━━━━━\u001b[0m \u001b[32m410.6/410.6 MB\u001b[0m \u001b[31m2.7 MB/s\u001b[0m eta \u001b[36m0:00:00\u001b[0m\n",
            "\u001b[?25hCollecting nvidia-cufft-cu12==11.0.2.54 (from torch)\n",
            "  Downloading https://download.pytorch.org/whl/cu121/nvidia_cufft_cu12-11.0.2.54-py3-none-manylinux1_x86_64.whl (121.6 MB)\n",
            "\u001b[2K     \u001b[90m━━━━━━━━━━━━━━━━━━━━━━━━━━━━━━━━━━━━━━━━\u001b[0m \u001b[32m121.6/121.6 MB\u001b[0m \u001b[31m14.1 MB/s\u001b[0m eta \u001b[36m0:00:00\u001b[0m\n",
            "\u001b[?25hCollecting nvidia-curand-cu12==10.3.2.106 (from torch)\n",
            "  Downloading https://download.pytorch.org/whl/cu121/nvidia_curand_cu12-10.3.2.106-py3-none-manylinux1_x86_64.whl (56.5 MB)\n",
            "\u001b[2K     \u001b[90m━━━━━━━━━━━━━━━━━━━━━━━━━━━━━━━━━━━━━━━━\u001b[0m \u001b[32m56.5/56.5 MB\u001b[0m \u001b[31m29.7 MB/s\u001b[0m eta \u001b[36m0:00:00\u001b[0m\n",
            "\u001b[?25hCollecting nvidia-cusolver-cu12==11.4.5.107 (from torch)\n",
            "  Downloading https://download.pytorch.org/whl/cu121/nvidia_cusolver_cu12-11.4.5.107-py3-none-manylinux1_x86_64.whl (124.2 MB)\n",
            "\u001b[2K     \u001b[90m━━━━━━━━━━━━━━━━━━━━━━━━━━━━━━━━━━━━━━━━\u001b[0m \u001b[32m124.2/124.2 MB\u001b[0m \u001b[31m14.0 MB/s\u001b[0m eta \u001b[36m0:00:00\u001b[0m\n",
            "\u001b[?25hCollecting nvidia-cusparse-cu12==12.1.0.106 (from torch)\n",
            "  Downloading https://download.pytorch.org/whl/cu121/nvidia_cusparse_cu12-12.1.0.106-py3-none-manylinux1_x86_64.whl (196.0 MB)\n",
            "\u001b[2K     \u001b[90m━━━━━━━━━━━━━━━━━━━━━━━━━━━━━━━━━━━━━━━━\u001b[0m \u001b[32m196.0/196.0 MB\u001b[0m \u001b[31m3.5 MB/s\u001b[0m eta \u001b[36m0:00:00\u001b[0m\n",
            "\u001b[?25hCollecting nvidia-nccl-cu12==2.19.3 (from torch)\n",
            "  Downloading https://download.pytorch.org/whl/cu121/nvidia_nccl_cu12-2.19.3-py3-none-manylinux1_x86_64.whl (166.0 MB)\n",
            "\u001b[2K     \u001b[90m━━━━━━━━━━━━━━━━━━━━━━━━━━━━━━━━━━━━━━━━\u001b[0m \u001b[32m166.0/166.0 MB\u001b[0m \u001b[31m10.2 MB/s\u001b[0m eta \u001b[36m0:00:00\u001b[0m\n",
            "\u001b[?25hCollecting nvidia-nvtx-cu12==12.1.105 (from torch)\n",
            "  Downloading https://download.pytorch.org/whl/cu121/nvidia_nvtx_cu12-12.1.105-py3-none-manylinux1_x86_64.whl (99 kB)\n",
            "\u001b[2K     \u001b[90m━━━━━━━━━━━━━━━━━━━━━━━━━━━━━━━━━━━━━━━━\u001b[0m \u001b[32m99.1/99.1 kB\u001b[0m \u001b[31m15.3 MB/s\u001b[0m eta \u001b[36m0:00:00\u001b[0m\n",
            "\u001b[?25hRequirement already satisfied: triton==2.2.0 in /usr/local/lib/python3.10/dist-packages (from torch) (2.2.0)\n",
            "Collecting nvidia-nvjitlink-cu12 (from nvidia-cusolver-cu12==11.4.5.107->torch)\n",
            "  Downloading https://download.pytorch.org/whl/cu121/nvidia_nvjitlink_cu12-12.1.105-py3-none-manylinux1_x86_64.whl (19.8 MB)\n",
            "\u001b[2K     \u001b[90m━━━━━━━━━━━━━━━━━━━━━━━━━━━━━━━━━━━━━━━━\u001b[0m \u001b[32m19.8/19.8 MB\u001b[0m \u001b[31m88.6 MB/s\u001b[0m eta \u001b[36m0:00:00\u001b[0m\n",
            "\u001b[?25hRequirement already satisfied: numpy in /usr/local/lib/python3.10/dist-packages (from torchvision) (1.25.2)\n",
            "Requirement already satisfied: pillow!=8.3.*,>=5.3.0 in /usr/local/lib/python3.10/dist-packages (from torchvision) (9.4.0)\n",
            "Requirement already satisfied: MarkupSafe>=2.0 in /usr/local/lib/python3.10/dist-packages (from jinja2->torch) (2.1.5)\n",
            "Requirement already satisfied: mpmath>=0.19 in /usr/local/lib/python3.10/dist-packages (from sympy->torch) (1.3.0)\n",
            "Installing collected packages: nvidia-nvtx-cu12, nvidia-nvjitlink-cu12, nvidia-nccl-cu12, nvidia-curand-cu12, nvidia-cufft-cu12, nvidia-cuda-runtime-cu12, nvidia-cuda-nvrtc-cu12, nvidia-cuda-cupti-cu12, nvidia-cublas-cu12, nvidia-cusparse-cu12, nvidia-cudnn-cu12, nvidia-cusolver-cu12\n",
            "Successfully installed nvidia-cublas-cu12-12.1.3.1 nvidia-cuda-cupti-cu12-12.1.105 nvidia-cuda-nvrtc-cu12-12.1.105 nvidia-cuda-runtime-cu12-12.1.105 nvidia-cudnn-cu12-8.9.2.26 nvidia-cufft-cu12-11.0.2.54 nvidia-curand-cu12-10.3.2.106 nvidia-cusolver-cu12-11.4.5.107 nvidia-cusparse-cu12-12.1.0.106 nvidia-nccl-cu12-2.19.3 nvidia-nvjitlink-cu12-12.1.105 nvidia-nvtx-cu12-12.1.105\n"
          ]
        }
      ]
    },
    {
      "cell_type": "code",
      "execution_count": 2,
      "metadata": {
        "id": "F9-LeofLie0c"
      },
      "outputs": [],
      "source": [
        "import pandas as pd\n",
        "import pyprind\n",
        "import numpy as np\n",
        "import matplotlib.pyplot as plt\n",
        "import seaborn as sns\n",
        "import plotly.express as px\n",
        "import plotly.io as pio\n",
        "import plotly.io as pio\n"
      ]
    },
    {
      "cell_type": "markdown",
      "metadata": {
        "id": "SZao08Kqie0f"
      },
      "source": [
        "## RNN\n"
      ]
    },
    {
      "cell_type": "markdown",
      "metadata": {
        "id": "z_I9EMHRie0g"
      },
      "source": [
        "#### Creating datasets"
      ]
    },
    {
      "cell_type": "code",
      "execution_count": 3,
      "metadata": {
        "id": "r5ol3trNie0h"
      },
      "outputs": [],
      "source": [
        "\n",
        "# Step 3: Define Custom Dataset Class\n",
        "class CustomDataset():\n",
        "    def __init__(self, dataframe):\n",
        "        self.dataframe = dataframe\n",
        "\n",
        "    def __len__(self):\n",
        "        return len(self.dataframe)\n",
        "\n",
        "    def __getitem__(self, idx):\n",
        "        text = self.dataframe.iloc[idx, 0]  # Assuming text is in the first column\n",
        "        label = self.dataframe.iloc[idx, 1]  # Assuming label is in the second column\n",
        "        return text, label\n"
      ]
    },
    {
      "cell_type": "code",
      "execution_count": 4,
      "metadata": {
        "id": "znNsXIPzie0i",
        "outputId": "2f160773-6328-423a-9501-3bf82f8ea66e",
        "colab": {
          "base_uri": "https://localhost:8080/"
        }
      },
      "outputs": [
        {
          "output_type": "stream",
          "name": "stderr",
          "text": [
            "<ipython-input-4-e8346e63ea1d>:8: DtypeWarning: Columns (1,2,3,4,5,6,7,8,9,10,11,12,13,14,15,16,17,18,19,20,21,22,23,24,25,26,27,28,29,30,31,32,33,34,35,36,37,38,39,40,41,42,43,44,45,46,47,48,49,50,51,52,53,54,55,56,57,58,59,60,61,62,63,64,65,66,67,68,69,70,71,72,73,74,75,76,77,78,79,80,81,82,83,84,85,86,87,88,89,90,91,92,93,94,95,96,97,98,99,100,101,102,103,104,105,106,107,108) have mixed types. Specify dtype option on import or set low_memory=False.\n",
            "  df = pd.read_csv(r'/content/cleaned_data.csv', delimiter=',', header=None)  # Assuming no header\n"
          ]
        },
        {
          "output_type": "stream",
          "name": "stdout",
          "text": [
            "                                                text label    2    3    4  \\\n",
            "1  ['someone', 'explain', 'attract', 'boy', 'gay'...     0  NaN  NaN  NaN   \n",
            "2  ['voluntary', 'admission', 'hospital', 'suicid...     1  NaN  NaN  NaN   \n",
            "3  ['want', 'end', 'life', 'scare', 'consequence'...     1  NaN  NaN  NaN   \n",
            "4  ['still', 'think', 'I', 'last', 'year', 'swear...     0  NaN  NaN  NaN   \n",
            "5  ['aware', 'one', 'care', 'want', 'girl', 'woul...     0  NaN  NaN  NaN   \n",
            "\n",
            "     5    6    7    8    9  ...  100  101  102  103  104  105  106  107  108  \\\n",
            "1  NaN  NaN  NaN  NaN  NaN  ...  NaN  NaN  NaN  NaN  NaN  NaN  NaN  NaN  NaN   \n",
            "2  NaN  NaN  NaN  NaN  NaN  ...  NaN  NaN  NaN  NaN  NaN  NaN  NaN  NaN  NaN   \n",
            "3  NaN  NaN  NaN  NaN  NaN  ...  NaN  NaN  NaN  NaN  NaN  NaN  NaN  NaN  NaN   \n",
            "4  NaN  NaN  NaN  NaN  NaN  ...  NaN  NaN  NaN  NaN  NaN  NaN  NaN  NaN  NaN   \n",
            "5  NaN  NaN  NaN  NaN  NaN  ...  NaN  NaN  NaN  NaN  NaN  NaN  NaN  NaN  NaN   \n",
            "\n",
            "  109  \n",
            "1 NaN  \n",
            "2 NaN  \n",
            "3 NaN  \n",
            "4 NaN  \n",
            "5 NaN  \n",
            "\n",
            "[5 rows x 110 columns]\n"
          ]
        }
      ],
      "source": [
        "import pandas as pd\n",
        "from collections import Counter\n",
        "from sklearn.model_selection import train_test_split\n",
        "\n",
        "train_on_gpu = True\n",
        "\n",
        "# Load the CSV file into a DataFrame, specifying the delimiter\n",
        "df = pd.read_csv(r'/content/cleaned_data.csv', delimiter=',', header=None)  # Assuming no header\n",
        "\n",
        "df = df.reset_index(drop=True)\n",
        "# Rename the class column to \"label\"\n",
        "df = df.rename(columns={0: 'text', 1: 'label'})\n",
        "df = df.drop(0)\n",
        "print(df.head())\n",
        "\n",
        "# Split the data into train, validation, and test sets\n",
        "train_valid_df, test_df = train_test_split(df, test_size=0.2, random_state=42)\n",
        "train_df, valid_df = train_test_split(train_valid_df, test_size=0.25, random_state=42)  # Splitting 80% for train and 20% for validation\n",
        "\n",
        "# Process tokens to remove extra characters (such as commas, single quotes, and square brackets)\n",
        "def preprocess_tokens(sentence):\n",
        "    return [word.strip(\",'[]\") for word in sentence.split()]\n",
        "\n",
        "# Create a counter to count word frequencies\n",
        "word_counter = Counter()\n",
        "\n",
        "# Count word frequencies from the training data\n",
        "for sentence in train_df['text']:\n",
        "    word_counter.update(preprocess_tokens(sentence))\n",
        "\n",
        "# Create a vocabulary ordered by word frequency\n",
        "vocab_ordered = {'<pad>': 0, '<unk>': 1}\n",
        "word_index = len(vocab_ordered)\n",
        "for word, count in word_counter.most_common():\n",
        "    vocab_ordered[word] = word_index\n",
        "    word_index += 1\n",
        "\n",
        "# Optionally, you can save the vocab to a file for later use\n",
        "with open('vocab_ordered.txt', 'w') as f:\n",
        "    for word, index in vocab_ordered.items():\n",
        "        f.write(f\"{word}: {index}\\n\")\n",
        "\n",
        "# Now you have train_df, valid_df, test_df DataFrames with the label column renamed\n",
        "# You can proceed with tokenization, building vocabulary, and encoding labels as needed\n"
      ]
    },
    {
      "cell_type": "markdown",
      "metadata": {
        "id": "zGpbbsUwie0j"
      },
      "source": [
        "# THIS IS THE PROBLEM!!!"
      ]
    },
    {
      "cell_type": "markdown",
      "metadata": {
        "id": "cNlcPsseie0k"
      },
      "source": [
        "# TASKS FOR Today:\n",
        "### Build 3 RNN Models using these three types of recurrent layers\n",
        "#### RNN\n",
        "#### LSTM\n",
        "#### GRU\n"
      ]
    },
    {
      "cell_type": "code",
      "execution_count": 5,
      "metadata": {
        "id": "DttD_V8nie0k"
      },
      "outputs": [],
      "source": [
        "import torch\n",
        "from torch.utils.data import Dataset, DataLoader\n",
        "from torch.nn.utils.rnn import pad_sequence\n",
        "import torch.nn as nn\n",
        "\n",
        "# Define text and label pipelines\n",
        "text_pipeline = lambda x: [vocab_ordered[word] if word in vocab_ordered else vocab_ordered['<unk>'] for word in preprocess_tokens(x)]\n",
        "label_pipeline = lambda x: torch.tensor([int(x), 1 - int(x)], dtype=torch.float32)\n",
        "\n",
        "\n",
        "def collate_batch(batch):\n",
        "    text_list, label_list = [], []\n",
        "    for text, label in batch:\n",
        "        label_list.append(label_pipeline(label))\n",
        "        processed_text = torch.tensor(text_pipeline(text), dtype=torch.int64)\n",
        "        text_list.append(processed_text)\n",
        "\n",
        "    label_list = torch.stack(label_list, dim = 0)\n",
        "\n",
        "    padded_text_list = nn.utils.rnn.pad_sequence(text_list, batch_first=True, padding_value=0)\n",
        "\n",
        "    # Create a dictionary containing the processed text, labels, and lengths\n",
        "    batch_dict = {\n",
        "        'text': padded_text_list,\n",
        "        'label': label_list\n",
        "    }\n",
        "\n",
        "    return batch_dict\n",
        "\n",
        "# Assuming you have already defined your training, validation, and test DataFrames as train_df, valid_df, and test_df respectively\n",
        "\n",
        "# Instantiate CustomDataset objects\n",
        "train_dataset = CustomDataset(train_df)\n",
        "valid_dataset = CustomDataset(valid_df)\n",
        "test_dataset = CustomDataset(test_df)\n",
        "\n",
        "# Define batch size\n",
        "batch_size = 32\n",
        "\n",
        "# Create DataLoader objects for training, validation, and test sets\n",
        "train_dl = DataLoader(train_dataset, batch_size=batch_size, shuffle=True, collate_fn=collate_batch)\n",
        "valid_dl = DataLoader(valid_dataset, batch_size=batch_size, shuffle=False, collate_fn=collate_batch)\n",
        "test_dl = DataLoader(test_dataset, batch_size=batch_size, shuffle=False, collate_fn=collate_batch)\n",
        "\n",
        "\n"
      ]
    },
    {
      "cell_type": "code",
      "execution_count": 6,
      "metadata": {
        "id": "4QC4YfuDie0l"
      },
      "outputs": [],
      "source": [
        "# Check batch sizes of DataLoader objects\n",
        "def check_batch_sizes(dataloader):\n",
        "    batch_sizes = []\n",
        "    for batch in dataloader:\n",
        "        batch_sizes.append(batch['text'].shape[0])# Get batch size from the 'text' tensor\n",
        "        x = batch_sizes\n",
        "    return x\n",
        "\n"
      ]
    },
    {
      "cell_type": "code",
      "execution_count": 7,
      "metadata": {
        "id": "wTw56tyHie0l",
        "outputId": "5dd0a881-4114-4e0a-cce4-3a0ce46d39bf",
        "colab": {
          "base_uri": "https://localhost:8080/"
        }
      },
      "outputs": [
        {
          "output_type": "stream",
          "name": "stdout",
          "text": [
            "torch.int64\n",
            "torch.float32\n"
          ]
        }
      ],
      "source": [
        "for batch in train_dl:\n",
        "    print(batch['text'].dtype)\n",
        "    print(batch['label'].dtype)\n",
        "    break\n",
        "      # Only print the structure of the first batch"
      ]
    },
    {
      "cell_type": "code",
      "execution_count": 8,
      "metadata": {
        "id": "yyfzt087sjP2"
      },
      "outputs": [],
      "source": [
        "import torch\n",
        "import torch.nn as nn\n",
        "import torch.optim as optim\n",
        "\n",
        "\n",
        "\n",
        "\n",
        "\n",
        "class LSTMModel(nn.Module):\n",
        "    def __init__(self, vocab_size, output_size, embedding_dim, hidden_dim, n_layers, dropout=0.2):\n",
        "        super(LSTMModel, self).__init__()\n",
        "        self.output_size = output_size\n",
        "        self.n_layers = n_layers\n",
        "        self.hidden_dim = hidden_dim\n",
        "\n",
        "\n",
        "        self.embedding = nn.Embedding(num_embeddings=vocab_size, embedding_dim=embedding_dim, padding_idx=0)\n",
        "\n",
        "\n",
        "        self.lstm = nn.LSTM(embedding_dim, hidden_dim, n_layers,\n",
        "                           batch_first=True)  # LSTM layer\n",
        "        self.dropout = nn.Dropout(dropout)\n",
        "        self.global_max_pooling = nn.AdaptiveMaxPool1d(1)  # Global max pooling\n",
        "\n",
        "        self.fc = nn.Linear(hidden_dim, output_size)\n",
        "        self.softmax = nn.LogSoftmax(dim=1)\n",
        "\n",
        "    def forward(self, x, hidden):\n",
        "        batch_size = x.size(0)\n",
        "        x = x.long()\n",
        "        embedded = self.embedding(x)\n",
        "        lstm_output, hidden = self.lstm(embedded)\n",
        "        lstm_output = self.dropout(lstm_output)\n",
        "        out = self.fc(lstm_output[:, -1])  # Apply linear layer to last output\n",
        "        output = torch.sigmoid(out)  # Apply sigmoid activation\n",
        "        return output, hidden\n",
        "\n",
        "\n",
        "\n",
        "    def init_hidden(self, batch_size):\n",
        "      '''Initialize Hidden State'''\n",
        "      weight = next(self.parameters()).data\n",
        "\n",
        "      hidden = (weight.new(self.n_layers, batch_size, self.hidden_dim).zero_(),\n",
        "                weight.new(self.n_layers, batch_size, self.hidden_dim).zero_())\n",
        "\n",
        "      if torch.cuda.is_available():\n",
        "          hidden = (hidden[0].cuda(), hidden[1].cuda())\n",
        "\n",
        "      return hidden\n",
        "\n",
        "\n"
      ]
    },
    {
      "cell_type": "code",
      "execution_count": 9,
      "metadata": {
        "id": "Iu129I1hie0n"
      },
      "outputs": [],
      "source": [
        "\n",
        "from torch.optim.lr_scheduler import ReduceLROnPlateau\n",
        "vocab_size = len(vocab_ordered)+1\n",
        "output_size = 2\n",
        "embedding_dim = 32\n",
        "hidden_dim = 64\n",
        "n_layers = 2\n",
        "\n",
        "# Define your model, loss function, and optimizer\n",
        "net = LSTMModel(vocab_size, output_size, embedding_dim, hidden_dim, n_layers)\n",
        "criterion = nn.BCELoss()\n",
        "optimizer = optim.Adam(net.parameters(), lr=0.001)\n",
        "\n",
        "# Define a learning rate scheduler\n",
        "scheduler = ReduceLROnPlateau(optimizer, mode='min', factor=0.5, patience=2)"
      ]
    },
    {
      "cell_type": "code",
      "source": [
        "import numpy as np\n",
        "from sklearn.metrics import accuracy_score, precision_score, recall_score, f1_score, roc_auc_score, roc_curve\n",
        "import matplotlib.pyplot as plt\n",
        "\n",
        "def train():\n",
        "    # Initialize lists to store evaluation metrics\n",
        "    precision_scores_train = []\n",
        "    recall_scores_train = []\n",
        "    f1_scores_train = []\n",
        "    roc_auc_scores_train = []\n",
        "\n",
        "    precision_scores_val = []\n",
        "    recall_scores_val = []\n",
        "    f1_scores_val = []\n",
        "    roc_auc_scores_val = []\n",
        "\n",
        "    # training params\n",
        "    epochs = 15\n",
        "    print_every = 1000\n",
        "    clip = 3  # gradient clipping\n",
        "\n",
        "    train_losses = []\n",
        "    val_losses = []\n",
        "    train_accuracies = []\n",
        "    val_accuracies = []\n",
        "\n",
        "    # move model to GPU, if available\n",
        "    if train_on_gpu:\n",
        "        net.cuda()\n",
        "\n",
        "    for e in range(epochs):\n",
        "        net.train()\n",
        "\n",
        "        true_labels_train_epoch = []\n",
        "        predicted_labels_train_epoch = []\n",
        "        epoch_train_losses = []\n",
        "\n",
        "        # batch loop\n",
        "        for batch in train_dl:\n",
        "            text, labels = batch['text'], batch['label']\n",
        "\n",
        "            if train_on_gpu:\n",
        "                text, labels = text.cuda(), labels.cuda()\n",
        "\n",
        "            # Creating new variables for the hidden state, otherwise\n",
        "            # we'd backprop through the entire training history\n",
        "            h = net.init_hidden(batch_size)\n",
        "            h = tuple([each.data for each in h])\n",
        "\n",
        "            # zero accumulated gradients\n",
        "            net.zero_grad()\n",
        "\n",
        "            # get the output from the model\n",
        "            output, h = net(text, h)\n",
        "\n",
        "            # calculate the loss and perform backprop\n",
        "            loss = criterion(output.squeeze(), labels)\n",
        "            loss.backward()\n",
        "\n",
        "            gradients = []\n",
        "            for param in net.parameters():\n",
        "                gradients.append(param.grad.view(-1))\n",
        "            all_gradients = torch.cat(gradients).cpu()\n",
        "\n",
        "            # `clip_grad_norm` helps prevent the exploding gradient problem in RNNs / LSTMs.\n",
        "            nn.utils.clip_grad_norm_(net.parameters(), clip)\n",
        "            optimizer.step()\n",
        "\n",
        "\n",
        "            # Append true and predicted labels for training data\n",
        "            true_labels_train_epoch.extend(labels.cpu().numpy())\n",
        "            predicted_labels_train_epoch.extend(torch.round(output.squeeze()).detach().cpu().numpy())\n",
        "\n",
        "            # Append loss for this step\n",
        "            epoch_train_losses.append(loss.item())\n",
        "\n",
        "        # Calculate average loss for the epoch\n",
        "        epoch_train_loss = np.mean(epoch_train_losses)\n",
        "        train_losses.append(epoch_train_loss)\n",
        "\n",
        "        # Get validation loss\n",
        "        net.eval()\n",
        "        val_losses_epoch = []\n",
        "        true_labels_val = []\n",
        "        predicted_labels_val = []\n",
        "\n",
        "        for val_batch in valid_dl:\n",
        "            val_text, val_labels = val_batch['text'], val_batch['label']\n",
        "\n",
        "            # Creating new variables for the hidden state, otherwise\n",
        "            # we'd backprop through the entire training history\n",
        "            val_h = net.init_hidden(batch_size)\n",
        "            val_h = tuple([each.data for each in val_h])\n",
        "\n",
        "            if train_on_gpu:\n",
        "                val_text, val_labels = val_text.cuda(), val_labels.cuda()\n",
        "\n",
        "            output, val_h = net(val_text, val_h)\n",
        "            val_loss = criterion(output.squeeze(), val_labels)\n",
        "\n",
        "            val_losses_epoch.append(val_loss.item())  # Append the validation loss\n",
        "\n",
        "            # Append true and predicted labels for validation data\n",
        "            true_labels_val.extend(val_labels.cpu().numpy())\n",
        "            predicted_labels_val.extend(torch.round(output.squeeze()).detach().cpu().numpy())\n",
        "\n",
        "        val_losses.append(np.mean(val_losses_epoch))\n",
        "\n",
        "        # Calculate and append accuracies\n",
        "        train_acc = accuracy_score(true_labels_train_epoch, predicted_labels_train_epoch)\n",
        "        val_acc = accuracy_score(true_labels_val, predicted_labels_val)\n",
        "        train_accuracies.append(train_acc)\n",
        "        val_accuracies.append(val_acc)\n",
        "\n",
        "        # Calculate and append evaluation metrics\n",
        "        precision_scores_train.append(precision_score(true_labels_train_epoch, predicted_labels_train_epoch, average='macro'))\n",
        "        recall_scores_train.append(recall_score(true_labels_train_epoch, predicted_labels_train_epoch, average='macro'))\n",
        "        f1_scores_train.append(f1_score(true_labels_train_epoch, predicted_labels_train_epoch, average='macro'))\n",
        "        roc_auc_scores_train.append(roc_auc_score(true_labels_train_epoch, predicted_labels_train_epoch))\n",
        "\n",
        "        precision_scores_val.append(precision_score(true_labels_val, predicted_labels_val, average='macro'))\n",
        "        recall_scores_val.append(recall_score(true_labels_val, predicted_labels_val, average='macro'))\n",
        "        f1_scores_val.append(f1_score(true_labels_val, predicted_labels_val, average='macro'))\n",
        "        roc_auc_scores_val.append(roc_auc_score(true_labels_val, predicted_labels_val))\n",
        "\n",
        "        print(\"Epoch: {}/{}...\".format(e+1, epochs),\n",
        "              \"Loss: {:.6f}...\".format(epoch_train_loss),\n",
        "              \"Val Loss: {:.6f}\".format(np.mean(val_losses_epoch)),\n",
        "              \"Train Accuracy: {:.6f}\".format(train_acc),\n",
        "              \"Val Accuracy: {:.6f}\".format(val_acc),\n",
        "              \"Training Precision: {:.4f}\".format(precision_scores_train[-1]),\n",
        "              \"Training Recall: {:.4f}\".format(recall_scores_train[-1]),\n",
        "              \"Training F1 Score: {:.4f}\".format(f1_scores_train[-1]),\n",
        "              \"Training ROC AUC Score: {:.4f}\".format(roc_auc_scores_train[-1]),\n",
        "              \"Validation Precision: {:.4f}\".format(precision_scores_val[-1]),\n",
        "              \"Validation Recall: {:.4f}\".format(recall_scores_val[-1]),\n",
        "              \"Validation F1 Score: {:.4f}\".format(f1_scores_val[-1]),\n",
        "              \"Validation ROC AUC Score: {:.4f}\".format(roc_auc_scores_val[-1]))\n",
        "\n",
        "\n",
        "    # Plotting\n",
        "    plt.figure(figsize=(12, 6))\n",
        "\n",
        "    # Plot training and validation losses\n",
        "    plt.subplot(1, 2, 1)\n",
        "    plt.plot(train_losses,  label='Training loss')\n",
        "    plt.plot(val_losses, label='Validation loss')\n",
        "    plt.xlabel('Epochs')\n",
        "    plt.ylabel('Loss')\n",
        "    plt.ylim(0, 1)\n",
        "    plt.legend()\n",
        "    plt.title('Training and Validation Loss')\n",
        "\n",
        "    # Plot training and validation accuracies\n",
        "    plt.subplot(1, 2, 2)\n",
        "    plt.plot(train_accuracies, label='Training accuracy')\n",
        "    plt.plot(val_accuracies, label='Validation accuracy')\n",
        "    plt.xlabel('Epochs')\n",
        "    plt.ylabel('Accuracy')\n",
        "    plt.ylim(0, 1)\n",
        "    plt.legend()\n",
        "    plt.title('Training and Validation Accuracy')\n",
        "\n",
        "    plt.tight_layout()\n",
        "    plt.show()\n",
        "\n",
        "train()\n"
      ],
      "metadata": {
        "id": "wbTlE2soogcv",
        "outputId": "2a35d4c0-5859-4117-9ca2-694f3cb6be9d",
        "colab": {
          "base_uri": "https://localhost:8080/",
          "height": 887
        }
      },
      "execution_count": 10,
      "outputs": [
        {
          "output_type": "stream",
          "name": "stdout",
          "text": [
            "Epoch: 1/15... Loss: 0.399663... Val Loss: 0.235129 Train Accuracy: 0.791561 Val Accuracy: 0.911049 Training Precision: 0.8046 Training Recall: 0.8091 Training F1 Score: 0.8068 Training ROC AUC Score: 0.8063 Validation Precision: 0.9114 Validation Recall: 0.9150 Validation F1 Score: 0.9132 Validation ROC AUC Score: 0.9130\n",
            "Epoch: 2/15... Loss: 0.213282... Val Loss: 0.195798 Train Accuracy: 0.920334 Val Accuracy: 0.925725 Training Precision: 0.9211 Training Recall: 0.9206 Training F1 Score: 0.9209 Training ROC AUC Score: 0.9209 Validation Precision: 0.9261 Validation Recall: 0.9259 Validation F1 Score: 0.9258 Validation ROC AUC Score: 0.9258\n",
            "Epoch: 3/15... Loss: 0.181564... Val Loss: 0.185678 Train Accuracy: 0.932735 Val Accuracy: 0.929484 Training Precision: 0.9329 Training Recall: 0.9330 Training F1 Score: 0.9330 Training ROC AUC Score: 0.9329 Validation Precision: 0.9297 Validation Recall: 0.9296 Validation F1 Score: 0.9296 Validation ROC AUC Score: 0.9296\n",
            "Epoch: 4/15... Loss: 0.162369... Val Loss: 0.181719 Train Accuracy: 0.940580 Val Accuracy: 0.931117 Training Precision: 0.9408 Training Recall: 0.9407 Training F1 Score: 0.9407 Training ROC AUC Score: 0.9407 Validation Precision: 0.9312 Validation Recall: 0.9312 Validation F1 Score: 0.9311 Validation ROC AUC Score: 0.9312\n",
            "Epoch: 5/15... Loss: 0.145720... Val Loss: 0.183071 Train Accuracy: 0.947448 Val Accuracy: 0.930893 Training Precision: 0.9476 Training Recall: 0.9475 Training F1 Score: 0.9476 Training ROC AUC Score: 0.9475 Validation Precision: 0.9311 Validation Recall: 0.9309 Validation F1 Score: 0.9310 Validation ROC AUC Score: 0.9310\n",
            "Epoch: 6/15... Loss: 0.130595... Val Loss: 0.197461 Train Accuracy: 0.953452 Val Accuracy: 0.928880 Training Precision: 0.9536 Training Recall: 0.9535 Training F1 Score: 0.9535 Training ROC AUC Score: 0.9535 Validation Precision: 0.9293 Validation Recall: 0.9291 Validation F1 Score: 0.9290 Validation ROC AUC Score: 0.9290\n",
            "Epoch: 7/15... Loss: 0.115048... Val Loss: 0.209793 Train Accuracy: 0.959306 Val Accuracy: 0.927694 Training Precision: 0.9594 Training Recall: 0.9594 Training F1 Score: 0.9594 Training ROC AUC Score: 0.9594 Validation Precision: 0.9277 Validation Recall: 0.9277 Validation F1 Score: 0.9277 Validation ROC AUC Score: 0.9277\n",
            "Epoch: 8/15... Loss: 0.100190... Val Loss: 0.231400 Train Accuracy: 0.965532 Val Accuracy: 0.925144 Training Precision: 0.9656 Training Recall: 0.9656 Training F1 Score: 0.9656 Training ROC AUC Score: 0.9656 Validation Precision: 0.9254 Validation Recall: 0.9252 Validation F1 Score: 0.9251 Validation ROC AUC Score: 0.9252\n",
            "Epoch: 9/15... Loss: 0.087980... Val Loss: 0.237417 Train Accuracy: 0.970402 Val Accuracy: 0.920781 Training Precision: 0.9705 Training Recall: 0.9704 Training F1 Score: 0.9704 Training ROC AUC Score: 0.9704 Validation Precision: 0.9214 Validation Recall: 0.9208 Validation F1 Score: 0.9208 Validation ROC AUC Score: 0.9208\n",
            "Epoch: 10/15... Loss: 0.076292... Val Loss: 0.265250 Train Accuracy: 0.975383 Val Accuracy: 0.920625 Training Precision: 0.9754 Training Recall: 0.9754 Training F1 Score: 0.9754 Training ROC AUC Score: 0.9754 Validation Precision: 0.9209 Validation Recall: 0.9207 Validation F1 Score: 0.9206 Validation ROC AUC Score: 0.9207\n",
            "Epoch: 11/15... Loss: 0.066522... Val Loss: 0.269099 Train Accuracy: 0.978590 Val Accuracy: 0.919976 Training Precision: 0.9786 Training Recall: 0.9786 Training F1 Score: 0.9786 Training ROC AUC Score: 0.9786 Validation Precision: 0.9200 Validation Recall: 0.9200 Validation F1 Score: 0.9200 Validation ROC AUC Score: 0.9200\n",
            "Epoch: 12/15... Loss: 0.062061... Val Loss: 0.268309 Train Accuracy: 0.980074 Val Accuracy: 0.918141 Training Precision: 0.9801 Training Recall: 0.9801 Training F1 Score: 0.9801 Training ROC AUC Score: 0.9801 Validation Precision: 0.9184 Validation Recall: 0.9181 Validation F1 Score: 0.9181 Validation ROC AUC Score: 0.9181\n",
            "Epoch: 13/15... Loss: 0.056280... Val Loss: 0.316661 Train Accuracy: 0.982505 Val Accuracy: 0.918074 Training Precision: 0.9826 Training Recall: 0.9825 Training F1 Score: 0.9825 Training ROC AUC Score: 0.9825 Validation Precision: 0.9182 Validation Recall: 0.9181 Validation F1 Score: 0.9181 Validation ROC AUC Score: 0.9181\n",
            "Epoch: 14/15... Loss: 0.049655... Val Loss: 0.314289 Train Accuracy: 0.984698 Val Accuracy: 0.915927 Training Precision: 0.9847 Training Recall: 0.9847 Training F1 Score: 0.9847 Training ROC AUC Score: 0.9847 Validation Precision: 0.9164 Validation Recall: 0.9159 Validation F1 Score: 0.9159 Validation ROC AUC Score: 0.9159\n",
            "Epoch: 15/15... Loss: 0.047909... Val Loss: 0.306001 Train Accuracy: 0.984884 Val Accuracy: 0.917537 Training Precision: 0.9849 Training Recall: 0.9849 Training F1 Score: 0.9849 Training ROC AUC Score: 0.9849 Validation Precision: 0.9176 Validation Recall: 0.9175 Validation F1 Score: 0.9176 Validation ROC AUC Score: 0.9176\n"
          ]
        },
        {
          "output_type": "display_data",
          "data": {
            "text/plain": [
              "<Figure size 1200x600 with 2 Axes>"
            ],
            "image/png": "[encoded data removed]"
          },
          "metadata": {}
        }
      ]
    },
    {
      "cell_type": "code",
      "execution_count": 11,
      "metadata": {
        "id": "k1CaTl1gie0o",
        "outputId": "482094e5-880a-4dd7-9bfa-5fa5418d4ac8",
        "colab": {
          "base_uri": "https://localhost:8080/",
          "height": 122
        }
      },
      "outputs": [
        {
          "output_type": "execute_result",
          "data": {
            "text/plain": [
              "'|===========================================================================|\\n|                  PyTorch CUDA memory summary, device ID 0                 |\\n|---------------------------------------------------------------------------|\\n|            CUDA OOMs: 0            |        cudaMalloc retries: 0         |\\n|===========================================================================|\\n|        Metric         | Cur Usage  | Peak Usage | Tot Alloc  | Tot Freed  |\\n|---------------------------------------------------------------------------|\\n| Allocated memory      |  28909 KiB |   1733 MiB |  16154 GiB |  16154 GiB |\\n|       from large pool |  27993 KiB |   1732 MiB |  15795 GiB |  15795 GiB |\\n|       from small pool |    916 KiB |      5 MiB |    358 GiB |    358 GiB |\\n|---------------------------------------------------------------------------|\\n| Active memory         |  28909 KiB |   1733 MiB |  16154 GiB |  16154 GiB |\\n|       from large pool |  27993 KiB |   1732 MiB |  15795 GiB |  15795 GiB |\\n|       from small pool |    916 KiB |      5 MiB |    358 GiB |    358 GiB |\\n|---------------------------------------------------------------------------|\\n| Requested memory      |  28604 KiB |   1731 MiB |  16027 GiB |  16027 GiB |\\n|       from large pool |  27690 KiB |   1730 MiB |  15669 GiB |  15669 GiB |\\n|       from small pool |    914 KiB |      5 MiB |    358 GiB |    358 GiB |\\n|---------------------------------------------------------------------------|\\n| GPU reserved memory   |   4506 MiB |   4506 MiB |   4506 MiB |      0 B   |\\n|       from large pool |   4498 MiB |   4498 MiB |   4498 MiB |      0 B   |\\n|       from small pool |      8 MiB |      8 MiB |      8 MiB |      0 B   |\\n|---------------------------------------------------------------------------|\\n| Non-releasable memory |  69394 KiB | 596608 KiB |  11764 GiB |  11764 GiB |\\n|       from large pool |  66214 KiB | 595872 KiB |  11331 GiB |  11331 GiB |\\n|       from small pool |   3180 KiB |   6371 KiB |    433 GiB |    433 GiB |\\n|---------------------------------------------------------------------------|\\n| Allocations           |      32    |      69    |    5213 K  |    5213 K  |\\n|       from large pool |       6    |      17    |    1152 K  |    1152 K  |\\n|       from small pool |      26    |      55    |    4060 K  |    4060 K  |\\n|---------------------------------------------------------------------------|\\n| Active allocs         |      32    |      69    |    5213 K  |    5213 K  |\\n|       from large pool |       6    |      17    |    1152 K  |    1152 K  |\\n|       from small pool |      26    |      55    |    4060 K  |    4060 K  |\\n|---------------------------------------------------------------------------|\\n| GPU reserved segments |      17    |      17    |      17    |       0    |\\n|       from large pool |      13    |      13    |      13    |       0    |\\n|       from small pool |       4    |       4    |       4    |       0    |\\n|---------------------------------------------------------------------------|\\n| Non-releasable allocs |      11    |      24    |    2382 K  |    2382 K  |\\n|       from large pool |       3    |      10    |     595 K  |     595 K  |\\n|       from small pool |       8    |      19    |    1787 K  |    1787 K  |\\n|---------------------------------------------------------------------------|\\n| Oversize allocations  |       0    |       0    |       0    |       0    |\\n|---------------------------------------------------------------------------|\\n| Oversize GPU segments |       0    |       0    |       0    |       0    |\\n|===========================================================================|\\n'"
            ],
            "application/vnd.google.colaboratory.intrinsic+json": {
              "type": "string"
            }
          },
          "metadata": {},
          "execution_count": 11
        }
      ],
      "source": [
        "torch.cuda.memory_summary()"
      ]
    },
    {
      "cell_type": "markdown",
      "metadata": {
        "id": "wcAddK7Wie0p"
      },
      "source": []
    },
    {
      "cell_type": "code",
      "execution_count": 12,
      "metadata": {
        "id": "vKzhjQKPie0p",
        "outputId": "f52adbc0-38b9-4b48-d0c0-6700524fbb83",
        "colab": {
          "base_uri": "https://localhost:8080/",
          "height": 211
        }
      },
      "outputs": [
        {
          "output_type": "error",
          "ename": "SyntaxError",
          "evalue": "invalid syntax (<ipython-input-12-f543cee718e4>, line 22)",
          "traceback": [
            "\u001b[0;31m---------------------------------------------------------------------------\u001b[0m",
            "\u001b[0;31mSyntaxError\u001b[0m                               Traceback (most recent call last)",
            "\u001b[0;32m/usr/local/lib/python3.10/dist-packages/IPython/core/compilerop.py\u001b[0m in \u001b[0;36mast_parse\u001b[0;34m(self, source, filename, symbol)\u001b[0m\n\u001b[1;32m     99\u001b[0m         \u001b[0mArguments\u001b[0m \u001b[0mare\u001b[0m \u001b[0mexactly\u001b[0m \u001b[0mthe\u001b[0m \u001b[0msame\u001b[0m \u001b[0;32mas\u001b[0m \u001b[0mast\u001b[0m\u001b[0;34m.\u001b[0m\u001b[0mparse\u001b[0m \u001b[0;34m(\u001b[0m\u001b[0;32min\u001b[0m \u001b[0mthe\u001b[0m \u001b[0mstandard\u001b[0m \u001b[0mlibrary\u001b[0m\u001b[0;34m)\u001b[0m\u001b[0;34m,\u001b[0m\u001b[0;34m\u001b[0m\u001b[0;34m\u001b[0m\u001b[0m\n\u001b[1;32m    100\u001b[0m         and are passed to the built-in compile function.\"\"\"\n\u001b[0;32m--> 101\u001b[0;31m         \u001b[0;32mreturn\u001b[0m \u001b[0mcompile\u001b[0m\u001b[0;34m(\u001b[0m\u001b[0msource\u001b[0m\u001b[0;34m,\u001b[0m \u001b[0mfilename\u001b[0m\u001b[0;34m,\u001b[0m \u001b[0msymbol\u001b[0m\u001b[0;34m,\u001b[0m \u001b[0mself\u001b[0m\u001b[0;34m.\u001b[0m\u001b[0mflags\u001b[0m \u001b[0;34m|\u001b[0m \u001b[0mPyCF_ONLY_AST\u001b[0m\u001b[0;34m,\u001b[0m \u001b[0;36m1\u001b[0m\u001b[0;34m)\u001b[0m\u001b[0;34m\u001b[0m\u001b[0;34m\u001b[0m\u001b[0m\n\u001b[0m\u001b[1;32m    102\u001b[0m \u001b[0;34m\u001b[0m\u001b[0m\n\u001b[1;32m    103\u001b[0m     \u001b[0;32mdef\u001b[0m \u001b[0mreset_compiler_flags\u001b[0m\u001b[0;34m(\u001b[0m\u001b[0mself\u001b[0m\u001b[0;34m)\u001b[0m\u001b[0;34m:\u001b[0m\u001b[0;34m\u001b[0m\u001b[0;34m\u001b[0m\u001b[0m\n",
            "\u001b[0;31mSyntaxError\u001b[0m: invalid syntax (<ipython-input-12-f543cee718e4>, line 22)"
          ]
        }
      ],
      "source": [
        "import torch.nn as nn\n",
        "import torch.nn.functional as F\n",
        "\n",
        "class MultiHeadAttention(nn.Module):\n",
        "  def __init__(self, d_model, num_heads):\n",
        "    super(MultiHeadAttention, self).__init__()\n",
        "    # d_model must be divisable by the number of heads\n",
        "    assert d_model % num_heads == 0, \"d_model must be divisible by num_heads\"\n",
        "\n",
        "    #Initialize Dimensions\n",
        "    self.d_model = d_model #Model's Dimension\n",
        "    self.num_heads = num_heads # Number of attention heads\n",
        "    self.d_k = d_model // num_heads # Dimension of each head's key, query, and value\n",
        "\n",
        "    # Linear Layers for transforming inputs\n",
        "\n",
        "    self.W_q = nn.Linear(d_model, d_model)\n",
        "\n",
        "class TransformerBlock(nn.Module):\n",
        "  def __init__(self, embed_dim, num_heads, ff_dim, rate):\n",
        "    super(TransformerBlock, self).__init__()\n",
        "    self.att =\n",
        "\n"
      ]
    },
    {
      "cell_type": "markdown",
      "metadata": {
        "id": "w4TpvUpdie0q"
      },
      "source": []
    },
    {
      "cell_type": "code",
      "execution_count": null,
      "metadata": {
        "id": "iSHt-rgrie0q"
      },
      "outputs": [],
      "source": [
        "\n",
        "def train_model(dataloader):\n",
        "    total_acc, total_loss = 0.0, 0.0\n",
        "    for i, batch in enumerate(dataloader):\n",
        "        print(f\"Batch Index: {i}\")\n",
        "        text_batch = batch['text']\n",
        "        label_batch = batch['label']\n",
        "        lengths = batch['length']\n",
        "\n",
        "        num_classes = 2  # Number of classes in your classification task\n",
        "        label_batch_one_hot = torch.zeros(label_batch.size(0), num_classes, dtype=torch.float32)  # Initialize with float dtype\n",
        "        label_batch_one_hot.scatter_(1, label_batch.unsqueeze(1).long(), 1)  # Convert label_batch to int64 using .long()\n",
        "\n",
        "        h_prev = np.zeros((hidden_size, text_batch.shape[1]))  # Initialize hidden state\n",
        "        print(\"Initial h_prev:\", h_prev)\n",
        "        loss = rnn_model.train_step(text_batch, label_batch, h_prev)\n",
        "        print(\"Updated h_prev:\", h_prev)\n",
        "\n",
        "        total_loss += loss * text_batch.shape[1]\n",
        "\n",
        "        pred = rnn_model.forward(text_batch, h_prev)[0]\n",
        "        total_acc += ((pred >= 0.5).astype(float) == label_batch).astype(float).sum().item()\n",
        "\n",
        "    return total_acc / len(dataloader.dataset), total_loss / len(dataloader.dataset)"
      ]
    },
    {
      "cell_type": "code",
      "execution_count": null,
      "metadata": {
        "id": "kOIYPy23ie0q"
      },
      "outputs": [],
      "source": [
        "def evaluate(dataloader):\n",
        "    total_acc, total_loss = 0.0, 0.0\n",
        "    for i, batch in enumerate(dataloader):\n",
        "        print(f\"Batch Index: {i}\")\n",
        "        text_batch = batch['text']\n",
        "        label_batch = batch['label']\n",
        "        lengths = batch['length']\n",
        "\n",
        "        h_prev = np.zeros((hidden_size, text_batch.shape[1]))  # Initialize hidden state\n",
        "     # Initialize hidden state\n",
        "\n",
        "        loss = rnn_model.train_step(text_batch, label_batch, h_prev)\n",
        "\n",
        "        total_loss += loss * text_batch.shape[0]\n",
        "\n",
        "        pred = rnn_model.forward(text_batch, h_prev)[0]\n",
        "        total_acc += ((pred >= 0.5).astype(float) == label_batch).astype(float).sum().item()\n",
        "\n",
        "    return total_acc / len(dataloader.dataset), total_loss / len(dataloader.dataset)\n"
      ]
    },
    {
      "cell_type": "code",
      "execution_count": null,
      "metadata": {
        "id": "GaxY0xTqie0q"
      },
      "outputs": [],
      "source": [
        "\n",
        "torch.manual_seed(1)\n",
        "for epoch in range(num_epochs):\n",
        "    acc_train, loss_train = train_model(train_dl)\n"
      ]
    }
  ],
  "metadata": {
    "kernelspec": {
      "display_name": "Python 3",
      "name": "python3"
    },
    "language_info": {
      "codemirror_mode": {
        "name": "ipython",
        "version": 3
      },
      "file_extension": ".py",
      "mimetype": "text/x-python",
      "name": "python",
      "nbconvert_exporter": "python",
      "pygments_lexer": "ipython3",
      "version": "3.11.8"
    },
    "colab": {
      "provenance": [],
      "machine_shape": "hm",
      "gpuType": "L4",
      "include_colab_link": true
    },
    "accelerator": "GPU"
  },
  "nbformat": 4,
  "nbformat_minor": 0
}